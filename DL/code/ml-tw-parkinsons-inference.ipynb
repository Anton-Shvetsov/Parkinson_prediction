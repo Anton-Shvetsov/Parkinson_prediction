{
 "cells": [
  {
   "cell_type": "code",
   "execution_count": 1,
   "id": "323614e1",
   "metadata": {
    "execution": {
     "iopub.execute_input": "2025-06-18T10:38:30.083416Z",
     "iopub.status.busy": "2025-06-18T10:38:30.083171Z",
     "iopub.status.idle": "2025-06-18T10:38:46.466722Z",
     "shell.execute_reply": "2025-06-18T10:38:46.465854Z"
    },
    "papermill": {
     "duration": 16.388252,
     "end_time": "2025-06-18T10:38:46.468080",
     "exception": false,
     "start_time": "2025-06-18T10:38:30.079828",
     "status": "completed"
    },
    "tags": []
   },
   "outputs": [
    {
     "name": "stderr",
     "output_type": "stream",
     "text": [
      "2025-06-18 10:38:31.686621: E external/local_xla/xla/stream_executor/cuda/cuda_fft.cc:477] Unable to register cuFFT factory: Attempting to register factory for plugin cuFFT when one has already been registered\n",
      "WARNING: All log messages before absl::InitializeLog() is called are written to STDERR\n",
      "E0000 00:00:1750243111.902463      19 cuda_dnn.cc:8310] Unable to register cuDNN factory: Attempting to register factory for plugin cuDNN when one has already been registered\n",
      "E0000 00:00:1750243111.960399      19 cuda_blas.cc:1418] Unable to register cuBLAS factory: Attempting to register factory for plugin cuBLAS when one has already been registered\n",
      "I0000 00:00:1750243126.430989      19 gpu_device.cc:2022] Created device /job:localhost/replica:0/task:0/device:GPU:0 with 15513 MB memory:  -> device: 0, name: Tesla P100-PCIE-16GB, pci bus id: 0000:00:04.0, compute capability: 6.0\n"
     ]
    }
   ],
   "source": [
    "import tensorflow as tf\n",
    "\n",
    "gpus = tf.config.list_physical_devices('GPU')\n",
    "strategy = tf.distribute.MirroredStrategy()"
   ]
  },
  {
   "cell_type": "code",
   "execution_count": 2,
   "id": "9ce56781",
   "metadata": {
    "execution": {
     "iopub.execute_input": "2025-06-18T10:38:46.473771Z",
     "iopub.status.busy": "2025-06-18T10:38:46.473307Z",
     "iopub.status.idle": "2025-06-18T10:38:46.632839Z",
     "shell.execute_reply": "2025-06-18T10:38:46.632293Z"
    },
    "papermill": {
     "duration": 0.163437,
     "end_time": "2025-06-18T10:38:46.634027",
     "exception": false,
     "start_time": "2025-06-18T10:38:46.470590",
     "status": "completed"
    },
    "tags": []
   },
   "outputs": [],
   "source": [
    "import os\n",
    "import numpy as np\n",
    "import pandas as pd\n",
    "import matplotlib.pyplot as plt\n",
    "from sklearn.metrics import roc_auc_score, confusion_matrix, ConfusionMatrixDisplay, accuracy_score, precision_score, recall_score, f1_score, roc_curve, auc\n",
    "from tensorflow.keras import backend as K\n",
    "from tensorflow.keras.layers import Input, Masking, Conv1D, BatchNormalization, Dropout, MaxPooling1D, LSTM, Dense\n",
    "from tensorflow.keras.models import Model, load_model\n",
    "from tensorflow.keras.optimizers import Adam"
   ]
  },
  {
   "cell_type": "code",
   "execution_count": 3,
   "id": "e52fa017",
   "metadata": {
    "execution": {
     "iopub.execute_input": "2025-06-18T10:38:46.638982Z",
     "iopub.status.busy": "2025-06-18T10:38:46.638765Z",
     "iopub.status.idle": "2025-06-18T10:38:46.643988Z",
     "shell.execute_reply": "2025-06-18T10:38:46.643262Z"
    },
    "papermill": {
     "duration": 0.0089,
     "end_time": "2025-06-18T10:38:46.645126",
     "exception": false,
     "start_time": "2025-06-18T10:38:46.636226",
     "status": "completed"
    },
    "tags": []
   },
   "outputs": [],
   "source": [
    "def load_ensemble(save_paths):\n",
    "    models = []\n",
    "    for save_path in save_paths:\n",
    "        models.append(load_model(save_path))\n",
    "    return models\n",
    "\n",
    "def predict(X, models):\n",
    "    predictions = []\n",
    "    for model in models:\n",
    "        predictions.append(model.predict(X))\n",
    "    return np.mean(predictions, axis=0)"
   ]
  },
  {
   "cell_type": "code",
   "execution_count": 4,
   "id": "8ad8a433",
   "metadata": {
    "execution": {
     "iopub.execute_input": "2025-06-18T10:38:46.650018Z",
     "iopub.status.busy": "2025-06-18T10:38:46.649644Z",
     "iopub.status.idle": "2025-06-18T10:38:46.867002Z",
     "shell.execute_reply": "2025-06-18T10:38:46.866158Z"
    },
    "papermill": {
     "duration": 0.221265,
     "end_time": "2025-06-18T10:38:46.868447",
     "exception": false,
     "start_time": "2025-06-18T10:38:46.647182",
     "status": "completed"
    },
    "tags": []
   },
   "outputs": [],
   "source": [
    "X_test = np.load('/kaggle/input/ml-tw-parkinsons-feature-selection/X_test.npy')\n",
    "y_test = np.load('/kaggle/input/ml-tw-parkinsons-feature-selection/y_test.npy')"
   ]
  },
  {
   "cell_type": "code",
   "execution_count": 5,
   "id": "d17f3af6",
   "metadata": {
    "execution": {
     "iopub.execute_input": "2025-06-18T10:38:46.873981Z",
     "iopub.status.busy": "2025-06-18T10:38:46.873387Z",
     "iopub.status.idle": "2025-06-18T10:38:49.262829Z",
     "shell.execute_reply": "2025-06-18T10:38:49.262243Z"
    },
    "papermill": {
     "duration": 2.393437,
     "end_time": "2025-06-18T10:38:49.264154",
     "exception": false,
     "start_time": "2025-06-18T10:38:46.870717",
     "status": "completed"
    },
    "tags": []
   },
   "outputs": [],
   "source": [
    "models_folder = '/kaggle/input/ml-tw-parkinsons-feature-selection/best_models/'\n",
    "model_paths = [models_folder + model_path for model_path in os.listdir(models_folder)]\n",
    "models = load_ensemble(model_paths)"
   ]
  },
  {
   "cell_type": "code",
   "execution_count": 6,
   "id": "927c034c",
   "metadata": {
    "execution": {
     "iopub.execute_input": "2025-06-18T10:38:49.269487Z",
     "iopub.status.busy": "2025-06-18T10:38:49.268906Z",
     "iopub.status.idle": "2025-06-18T10:38:49.278580Z",
     "shell.execute_reply": "2025-06-18T10:38:49.278069Z"
    },
    "papermill": {
     "duration": 0.013199,
     "end_time": "2025-06-18T10:38:49.279614",
     "exception": false,
     "start_time": "2025-06-18T10:38:49.266415",
     "status": "completed"
    },
    "tags": []
   },
   "outputs": [],
   "source": [
    "with open('/kaggle/input/ml-tw-parkinsons-feature-selection/features_indices.txt','r') as f:\n",
    "    features = list(map(int, f.readline().split()))"
   ]
  },
  {
   "cell_type": "code",
   "execution_count": 7,
   "id": "25f10ea6",
   "metadata": {
    "execution": {
     "iopub.execute_input": "2025-06-18T10:38:49.284071Z",
     "iopub.status.busy": "2025-06-18T10:38:49.283897Z",
     "iopub.status.idle": "2025-06-18T10:38:52.739002Z",
     "shell.execute_reply": "2025-06-18T10:38:52.738457Z"
    },
    "papermill": {
     "duration": 3.458594,
     "end_time": "2025-06-18T10:38:52.740171",
     "exception": false,
     "start_time": "2025-06-18T10:38:49.281577",
     "status": "completed"
    },
    "tags": []
   },
   "outputs": [
    {
     "name": "stderr",
     "output_type": "stream",
     "text": [
      "I0000 00:00:1750243129.835365      59 cuda_dnn.cc:529] Loaded cuDNN version 90300\n"
     ]
    },
    {
     "name": "stdout",
     "output_type": "stream",
     "text": [
      "\u001b[1m1/1\u001b[0m \u001b[32m━━━━━━━━━━━━━━━━━━━━\u001b[0m\u001b[37m\u001b[0m \u001b[1m2s\u001b[0m 2s/step\n",
      "\u001b[1m1/1\u001b[0m \u001b[32m━━━━━━━━━━━━━━━━━━━━\u001b[0m\u001b[37m\u001b[0m \u001b[1m0s\u001b[0m 368ms/step\n",
      "\u001b[1m1/1\u001b[0m \u001b[32m━━━━━━━━━━━━━━━━━━━━\u001b[0m\u001b[37m\u001b[0m \u001b[1m0s\u001b[0m 381ms/step\n",
      "\u001b[1m1/1\u001b[0m \u001b[32m━━━━━━━━━━━━━━━━━━━━\u001b[0m\u001b[37m\u001b[0m \u001b[1m0s\u001b[0m 355ms/step\n",
      "\u001b[1m1/1\u001b[0m \u001b[32m━━━━━━━━━━━━━━━━━━━━\u001b[0m\u001b[37m\u001b[0m \u001b[1m0s\u001b[0m 354ms/step\n"
     ]
    }
   ],
   "source": [
    "y_pred = predict(X_test[:,:,features],models)"
   ]
  },
  {
   "cell_type": "code",
   "execution_count": 8,
   "id": "a87a6b82",
   "metadata": {
    "execution": {
     "iopub.execute_input": "2025-06-18T10:38:52.746701Z",
     "iopub.status.busy": "2025-06-18T10:38:52.746220Z",
     "iopub.status.idle": "2025-06-18T10:38:52.776723Z",
     "shell.execute_reply": "2025-06-18T10:38:52.776143Z"
    },
    "papermill": {
     "duration": 0.034714,
     "end_time": "2025-06-18T10:38:52.777804",
     "exception": false,
     "start_time": "2025-06-18T10:38:52.743090",
     "status": "completed"
    },
    "tags": []
   },
   "outputs": [
    {
     "data": {
      "text/html": [
       "<div>\n",
       "<style scoped>\n",
       "    .dataframe tbody tr th:only-of-type {\n",
       "        vertical-align: middle;\n",
       "    }\n",
       "\n",
       "    .dataframe tbody tr th {\n",
       "        vertical-align: top;\n",
       "    }\n",
       "\n",
       "    .dataframe thead th {\n",
       "        text-align: right;\n",
       "    }\n",
       "</style>\n",
       "<table border=\"1\" class=\"dataframe\">\n",
       "  <thead>\n",
       "    <tr style=\"text-align: right;\">\n",
       "      <th></th>\n",
       "      <th>value</th>\n",
       "    </tr>\n",
       "  </thead>\n",
       "  <tbody>\n",
       "    <tr>\n",
       "      <th>accuracy</th>\n",
       "      <td>0.700000</td>\n",
       "    </tr>\n",
       "    <tr>\n",
       "      <th>precision</th>\n",
       "      <td>0.750000</td>\n",
       "    </tr>\n",
       "    <tr>\n",
       "      <th>recall</th>\n",
       "      <td>0.705882</td>\n",
       "    </tr>\n",
       "    <tr>\n",
       "      <th>specificity</th>\n",
       "      <td>0.692308</td>\n",
       "    </tr>\n",
       "    <tr>\n",
       "      <th>O1</th>\n",
       "      <td>0.133333</td>\n",
       "    </tr>\n",
       "    <tr>\n",
       "      <th>O2</th>\n",
       "      <td>0.294118</td>\n",
       "    </tr>\n",
       "    <tr>\n",
       "      <th>roc-auc</th>\n",
       "      <td>0.800905</td>\n",
       "    </tr>\n",
       "  </tbody>\n",
       "</table>\n",
       "</div>"
      ],
      "text/plain": [
       "                value\n",
       "accuracy     0.700000\n",
       "precision    0.750000\n",
       "recall       0.705882\n",
       "specificity  0.692308\n",
       "O1           0.133333\n",
       "O2           0.294118\n",
       "roc-auc      0.800905"
      ]
     },
     "execution_count": 8,
     "metadata": {},
     "output_type": "execute_result"
    }
   ],
   "source": [
    "positive_ratio = y_test.mean()\n",
    "cm = confusion_matrix(y_test, y_pred>0.5)\n",
    "tn, fp, fn, tp = cm.ravel()\n",
    "roc_auc = roc_auc_score(y_test, y_pred)\n",
    "accuracy = accuracy_score(y_test, y_pred>0.5)\n",
    "precision = tp / (tp + fp)\n",
    "recall = tp / (tp + fn)\n",
    "specificity = tn / (tn + fp)\n",
    "O2 = 1 - recall\n",
    "O1 = positive_ratio * recall * (1/precision - 1)\n",
    "\n",
    "df = pd.DataFrame([{'accuracy' : accuracy,\n",
    "                   'precision' : precision,\n",
    "                   'recall' : recall,\n",
    "                   'specificity': specificity,\n",
    "                   'O1' : O1,\n",
    "                   'O2' : O2,\n",
    "                   'roc-auc' : roc_auc}]).T\n",
    "df.columns = ['value']\n",
    "df"
   ]
  },
  {
   "cell_type": "code",
   "execution_count": 9,
   "id": "c736945a",
   "metadata": {
    "execution": {
     "iopub.execute_input": "2025-06-18T10:38:52.784087Z",
     "iopub.status.busy": "2025-06-18T10:38:52.783876Z",
     "iopub.status.idle": "2025-06-18T10:38:52.995470Z",
     "shell.execute_reply": "2025-06-18T10:38:52.994645Z"
    },
    "papermill": {
     "duration": 0.216152,
     "end_time": "2025-06-18T10:38:52.996704",
     "exception": false,
     "start_time": "2025-06-18T10:38:52.780552",
     "status": "completed"
    },
    "tags": []
   },
   "outputs": [
    {
     "data": {
      "text/plain": [
       "<Figure size 1000x700 with 0 Axes>"
      ]
     },
     "metadata": {},
     "output_type": "display_data"
    },
    {
     "data": {
      "image/png": "[encoded data removed]",
      "text/plain": [
       "<Figure size 640x480 with 2 Axes>"
      ]
     },
     "metadata": {},
     "output_type": "display_data"
    }
   ],
   "source": [
    "cm_plot = ConfusionMatrixDisplay(cm, display_labels=['control','parkinsons'])\n",
    "\n",
    "plt.figure(figsize=(10,7))\n",
    "cm_plot.plot()\n",
    "plt.show()"
   ]
  },
  {
   "cell_type": "code",
   "execution_count": 10,
   "id": "9e24cee4",
   "metadata": {
    "execution": {
     "iopub.execute_input": "2025-06-18T10:38:53.003663Z",
     "iopub.status.busy": "2025-06-18T10:38:53.003436Z",
     "iopub.status.idle": "2025-06-18T10:38:53.139835Z",
     "shell.execute_reply": "2025-06-18T10:38:53.139094Z"
    },
    "papermill": {
     "duration": 0.14104,
     "end_time": "2025-06-18T10:38:53.140967",
     "exception": false,
     "start_time": "2025-06-18T10:38:52.999927",
     "status": "completed"
    },
    "tags": []
   },
   "outputs": [
    {
     "data": {
      "image/png": "[encoded data removed]",
      "text/plain": [
       "<Figure size 1000x700 with 1 Axes>"
      ]
     },
     "metadata": {},
     "output_type": "display_data"
    }
   ],
   "source": [
    "fpr, tpr, thresholds = roc_curve(y_test, y_pred)\n",
    "\n",
    "plt.figure(figsize=(10, 7))\n",
    "plt.plot(fpr, tpr, color='teal', lw=2, label=f'ROC-curve (AUC = {roc_auc:.2f})')\n",
    "plt.plot([0, 1], [0, 1], color='black', lw=2, linestyle='--') \n",
    "plt.xlim([0.0, 1.0])\n",
    "plt.ylim([0.0, 1.05])\n",
    "plt.xlabel('False Positive Rate')\n",
    "plt.ylabel('True Positive Rate')\n",
    "plt.legend(loc=\"lower right\")\n",
    "plt.grid(True)\n",
    "plt.show()"
   ]
  }
 ],
 "metadata": {
  "kaggle": {
   "accelerator": "none",
   "dataSources": [
    {
     "sourceId": 245291865,
     "sourceType": "kernelVersion"
    }
   ],
   "dockerImageVersionId": 31040,
   "isGpuEnabled": false,
   "isInternetEnabled": true,
   "language": "python",
   "sourceType": "notebook"
  },
  "kernelspec": {
   "display_name": "Python 3",
   "language": "python",
   "name": "python3"
  },
  "language_info": {
   "codemirror_mode": {
    "name": "ipython",
    "version": 3
   },
   "file_extension": ".py",
   "mimetype": "text/x-python",
   "name": "python",
   "nbconvert_exporter": "python",
   "pygments_lexer": "ipython3",
   "version": "3.11.11"
  },
  "papermill": {
   "default_parameters": {},
   "duration": 30.280612,
   "end_time": "2025-06-18T10:38:56.223654",
   "environment_variables": {},
   "exception": null,
   "input_path": "__notebook__.ipynb",
   "output_path": "__notebook__.ipynb",
   "parameters": {},
   "start_time": "2025-06-18T10:38:25.943042",
   "version": "2.6.0"
  }
 },
 "nbformat": 4,
 "nbformat_minor": 5
}
