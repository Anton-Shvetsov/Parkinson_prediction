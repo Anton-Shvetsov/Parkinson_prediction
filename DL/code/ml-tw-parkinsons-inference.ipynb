{
 "cells": [
  {
   "cell_type": "code",
   "execution_count": 1,
   "id": "1852d873",
   "metadata": {
    "execution": {
     "iopub.execute_input": "2025-06-13T17:44:00.318720Z",
     "iopub.status.busy": "2025-06-13T17:44:00.318291Z",
     "iopub.status.idle": "2025-06-13T17:44:28.269185Z",
     "shell.execute_reply": "2025-06-13T17:44:28.267941Z"
    },
    "papermill": {
     "duration": 27.959178,
     "end_time": "2025-06-13T17:44:28.270947",
     "exception": false,
     "start_time": "2025-06-13T17:44:00.311769",
     "status": "completed"
    },
    "tags": []
   },
   "outputs": [
    {
     "name": "stderr",
     "output_type": "stream",
     "text": [
      "2025-06-13 17:44:03.533087: E external/local_xla/xla/stream_executor/cuda/cuda_fft.cc:477] Unable to register cuFFT factory: Attempting to register factory for plugin cuFFT when one has already been registered\n",
      "WARNING: All log messages before absl::InitializeLog() is called are written to STDERR\n",
      "E0000 00:00:1749836643.989480      13 cuda_dnn.cc:8310] Unable to register cuDNN factory: Attempting to register factory for plugin cuDNN when one has already been registered\n",
      "E0000 00:00:1749836644.130694      13 cuda_blas.cc:1418] Unable to register cuBLAS factory: Attempting to register factory for plugin cuBLAS when one has already been registered\n",
      "2025-06-13 17:44:28.209219: E external/local_xla/xla/stream_executor/cuda/cuda_driver.cc:152] failed call to cuInit: INTERNAL: CUDA error: Failed call to cuInit: UNKNOWN ERROR (303)\n"
     ]
    }
   ],
   "source": [
    "import tensorflow as tf\n",
    "\n",
    "gpus = tf.config.list_physical_devices('GPU')\n",
    "strategy = tf.distribute.MirroredStrategy()"
   ]
  },
  {
   "cell_type": "code",
   "execution_count": 2,
   "id": "c34855ae",
   "metadata": {
    "execution": {
     "iopub.execute_input": "2025-06-13T17:44:28.277760Z",
     "iopub.status.busy": "2025-06-13T17:44:28.277006Z",
     "iopub.status.idle": "2025-06-13T17:44:28.602001Z",
     "shell.execute_reply": "2025-06-13T17:44:28.600804Z"
    },
    "papermill": {
     "duration": 0.330319,
     "end_time": "2025-06-13T17:44:28.604004",
     "exception": false,
     "start_time": "2025-06-13T17:44:28.273685",
     "status": "completed"
    },
    "tags": []
   },
   "outputs": [],
   "source": [
    "import os\n",
    "import numpy as np\n",
    "import matplotlib.pyplot as plt\n",
    "from sklearn.metrics import roc_auc_score, accuracy_score, precision_score, recall_score, f1_score, roc_curve, auc\n",
    "from tensorflow.keras import backend as K\n",
    "from tensorflow.keras.layers import Input, Masking, Conv1D, BatchNormalization, Dropout, MaxPooling1D, LSTM, Dense\n",
    "from tensorflow.keras.models import Model, load_model\n",
    "from tensorflow.keras.optimizers import Adam"
   ]
  },
  {
   "cell_type": "code",
   "execution_count": 3,
   "id": "b7ca3b8b",
   "metadata": {
    "execution": {
     "iopub.execute_input": "2025-06-13T17:44:28.611317Z",
     "iopub.status.busy": "2025-06-13T17:44:28.610333Z",
     "iopub.status.idle": "2025-06-13T17:44:28.616371Z",
     "shell.execute_reply": "2025-06-13T17:44:28.615452Z"
    },
    "papermill": {
     "duration": 0.011252,
     "end_time": "2025-06-13T17:44:28.617971",
     "exception": false,
     "start_time": "2025-06-13T17:44:28.606719",
     "status": "completed"
    },
    "tags": []
   },
   "outputs": [],
   "source": [
    "def load_ensemble(save_paths):\n",
    "    models = []\n",
    "    for save_path in save_paths:\n",
    "        models.append(load_model(save_path))\n",
    "    return models\n",
    "\n",
    "def predict(X, models):\n",
    "    predictions = []\n",
    "    for model in models:\n",
    "        predictions.append(model.predict(X))\n",
    "    return np.mean(predictions, axis=0)"
   ]
  },
  {
   "cell_type": "code",
   "execution_count": 4,
   "id": "a026df42",
   "metadata": {
    "execution": {
     "iopub.execute_input": "2025-06-13T17:44:28.624089Z",
     "iopub.status.busy": "2025-06-13T17:44:28.623796Z",
     "iopub.status.idle": "2025-06-13T17:44:28.887896Z",
     "shell.execute_reply": "2025-06-13T17:44:28.886365Z"
    },
    "papermill": {
     "duration": 0.26931,
     "end_time": "2025-06-13T17:44:28.889782",
     "exception": false,
     "start_time": "2025-06-13T17:44:28.620472",
     "status": "completed"
    },
    "tags": []
   },
   "outputs": [],
   "source": [
    "X_test = np.load('/kaggle/input/ml-tw-parkinsons-feature-selection/X_test.npy')\n",
    "y_test = np.load('/kaggle/input/ml-tw-parkinsons-feature-selection/y_test.npy')"
   ]
  },
  {
   "cell_type": "code",
   "execution_count": 5,
   "id": "4bfdec8f",
   "metadata": {
    "execution": {
     "iopub.execute_input": "2025-06-13T17:44:28.896295Z",
     "iopub.status.busy": "2025-06-13T17:44:28.895961Z",
     "iopub.status.idle": "2025-06-13T17:44:30.610766Z",
     "shell.execute_reply": "2025-06-13T17:44:30.609694Z"
    },
    "papermill": {
     "duration": 1.720184,
     "end_time": "2025-06-13T17:44:30.612733",
     "exception": false,
     "start_time": "2025-06-13T17:44:28.892549",
     "status": "completed"
    },
    "tags": []
   },
   "outputs": [],
   "source": [
    "models_folder = '/kaggle/input/ml-tw-parkinsons-feature-selection/best_models/'\n",
    "model_paths = [models_folder + model_path for model_path in os.listdir(models_folder)]\n",
    "models = load_ensemble(model_paths)"
   ]
  },
  {
   "cell_type": "code",
   "execution_count": 6,
   "id": "9428f7e6",
   "metadata": {
    "execution": {
     "iopub.execute_input": "2025-06-13T17:44:30.621715Z",
     "iopub.status.busy": "2025-06-13T17:44:30.619675Z",
     "iopub.status.idle": "2025-06-13T17:44:30.635844Z",
     "shell.execute_reply": "2025-06-13T17:44:30.634115Z"
    },
    "papermill": {
     "duration": 0.022852,
     "end_time": "2025-06-13T17:44:30.638220",
     "exception": false,
     "start_time": "2025-06-13T17:44:30.615368",
     "status": "completed"
    },
    "tags": []
   },
   "outputs": [],
   "source": [
    "with open('/kaggle/input/ml-tw-parkinsons-feature-selection/features_indices.txt','r') as f:\n",
    "    features = list(map(int, f.readline().split()))"
   ]
  },
  {
   "cell_type": "code",
   "execution_count": 7,
   "id": "e101246c",
   "metadata": {
    "execution": {
     "iopub.execute_input": "2025-06-13T17:44:30.648278Z",
     "iopub.status.busy": "2025-06-13T17:44:30.647828Z",
     "iopub.status.idle": "2025-06-13T17:44:35.700507Z",
     "shell.execute_reply": "2025-06-13T17:44:35.699213Z"
    },
    "papermill": {
     "duration": 5.060112,
     "end_time": "2025-06-13T17:44:35.702370",
     "exception": false,
     "start_time": "2025-06-13T17:44:30.642258",
     "status": "completed"
    },
    "tags": []
   },
   "outputs": [
    {
     "name": "stdout",
     "output_type": "stream",
     "text": [
      "\u001b[1m1/1\u001b[0m \u001b[32m━━━━━━━━━━━━━━━━━━━━\u001b[0m\u001b[37m\u001b[0m \u001b[1m1s\u001b[0m 1s/step\n",
      "\u001b[1m1/1\u001b[0m \u001b[32m━━━━━━━━━━━━━━━━━━━━\u001b[0m\u001b[37m\u001b[0m \u001b[1m1s\u001b[0m 776ms/step\n",
      "\u001b[1m1/1\u001b[0m \u001b[32m━━━━━━━━━━━━━━━━━━━━\u001b[0m\u001b[37m\u001b[0m \u001b[1m1s\u001b[0m 784ms/step\n",
      "\u001b[1m1/1\u001b[0m \u001b[32m━━━━━━━━━━━━━━━━━━━━\u001b[0m\u001b[37m\u001b[0m \u001b[1m1s\u001b[0m 741ms/step\n",
      "\u001b[1m1/1\u001b[0m \u001b[32m━━━━━━━━━━━━━━━━━━━━\u001b[0m\u001b[37m\u001b[0m \u001b[1m1s\u001b[0m 707ms/step\n",
      "Accuracy on test data: 0.7000\n",
      "Precision on test data: 0.7500\n",
      "Recall on test data: 0.7059\n",
      "F1 on test data: 0.7273\n",
      "ROC-AUC on test data: 0.8009\n"
     ]
    }
   ],
   "source": [
    "y_pred = predict(X_test[:,:,features],models)\n",
    "roc_auc = roc_auc_score(y_test, y_pred)\n",
    "print(f'Accuracy on test data: {accuracy_score(y_test, y_pred>0.5):.4f}')\n",
    "print(f'Precision on test data: {precision_score(y_test, y_pred>0.5):.4f}')\n",
    "print(f'Recall on test data: {recall_score(y_test, y_pred>0.5):.4f}')\n",
    "print(f'F1 on test data: {f1_score(y_test, y_pred>0.5):.4f}')\n",
    "print(f'ROC-AUC on test data: {roc_auc:.4f}')"
   ]
  },
  {
   "cell_type": "code",
   "execution_count": 8,
   "id": "a8b6c878",
   "metadata": {
    "execution": {
     "iopub.execute_input": "2025-06-13T17:44:35.709727Z",
     "iopub.status.busy": "2025-06-13T17:44:35.709327Z",
     "iopub.status.idle": "2025-06-13T17:44:36.005499Z",
     "shell.execute_reply": "2025-06-13T17:44:36.004611Z"
    },
    "papermill": {
     "duration": 0.301771,
     "end_time": "2025-06-13T17:44:36.007232",
     "exception": false,
     "start_time": "2025-06-13T17:44:35.705461",
     "status": "completed"
    },
    "tags": []
   },
   "outputs": [
    {
     "data": {
      "image/png": "[encoded data removed]",
      "text/plain": [
       "<Figure size 1000x700 with 1 Axes>"
      ]
     },
     "metadata": {},
     "output_type": "display_data"
    }
   ],
   "source": [
    "fpr, tpr, thresholds = roc_curve(y_test, y_pred)\n",
    "\n",
    "plt.figure(figsize=(10, 7))\n",
    "plt.plot(fpr, tpr, color='teal', lw=2, label=f'ROC-curve (AUC = {roc_auc:.2f})')\n",
    "plt.plot([0, 1], [0, 1], color='black', lw=2, linestyle='--') \n",
    "plt.xlim([0.0, 1.0])\n",
    "plt.ylim([0.0, 1.05])\n",
    "plt.xlabel('False Positive Rate')\n",
    "plt.ylabel('True Positive Rate')\n",
    "plt.legend(loc=\"lower right\")\n",
    "plt.grid(True)\n",
    "plt.show()"
   ]
  }
 ],
 "metadata": {
  "kaggle": {
   "accelerator": "none",
   "dataSources": [
    {
     "sourceId": 245291865,
     "sourceType": "kernelVersion"
    }
   ],
   "dockerImageVersionId": 31040,
   "isGpuEnabled": false,
   "isInternetEnabled": true,
   "language": "python",
   "sourceType": "notebook"
  },
  "kernelspec": {
   "display_name": "Python 3",
   "language": "python",
   "name": "python3"
  },
  "language_info": {
   "codemirror_mode": {
    "name": "ipython",
    "version": 3
   },
   "file_extension": ".py",
   "mimetype": "text/x-python",
   "name": "python",
   "nbconvert_exporter": "python",
   "pygments_lexer": "ipython3",
   "version": "3.11.11"
  },
  "papermill": {
   "default_parameters": {},
   "duration": 45.597858,
   "end_time": "2025-06-13T17:44:39.617993",
   "environment_variables": {},
   "exception": null,
   "input_path": "__notebook__.ipynb",
   "output_path": "__notebook__.ipynb",
   "parameters": {},
   "start_time": "2025-06-13T17:43:54.020135",
   "version": "2.6.0"
  }
 },
 "nbformat": 4,
 "nbformat_minor": 5
}
